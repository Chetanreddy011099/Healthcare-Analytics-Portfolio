{
 "cells": [
  {
   "cell_type": "markdown",
   "metadata": {},
   "source": [
    "# Hospital Readmission Analysis\n",
    "This notebook generates a compact analysis of readmission rates by age group and a simple dashboard image.\n",
    "\n",
    "**Note:** Replace the synthetic dataset with your de-identified data to adapt this analysis."
   ]
  },
  {
   "cell_type": "code",
   "execution_count": null,
   "metadata": {},
   "outputs": [],
   "source": [
    "import pandas as pd\n",
    "import matplotlib.pyplot as plt\n",
    "\n",
    "# Synthetic dataset\n",
    "age_groups = ['18-30','31-45','46-60','61-75','76+']\n",
    "readmit = [5.2, 8.4, 12.5, 18.7, 24.3]\n",
    "chronic = [10, 20, 35, 50, 65]\n",
    "df = pd.DataFrame({'Age Group': age_groups,\n",
    "                   'Readmission Rate (%)': readmit,\n",
    "                   'Chronic Condition %': chronic})\n",
    "df"
   ]
  },
  {
   "cell_type": "code",
   "execution_count": null,
   "metadata": {},
   "outputs": [],
   "source": [
    "fig, ax1 = plt.subplots(figsize=(8,5))\n",
    "ax1.bar(df['Age Group'], df['Readmission Rate (%)'])\n",
    "ax1.set_xlabel('Age Group')\n",
    "ax1.set_ylabel('Readmission Rate (%)')\n",
    "ax2 = ax1.twinx()\n",
    "ax2.plot(df['Age Group'], df['Chronic Condition %'], marker='o')\n",
    "ax2.set_ylabel('Chronic Condition (%)')\n",
    "plt.title('Hospital Readmission Analysis by Age Group')\n",
    "plt.tight_layout()\n",
    "plt.savefig('dashboard.png', dpi=200)\n",
    "plt.show()"
   ]
  },
  {
   "cell_type": "markdown",
   "metadata": {},
   "source": [
    "## Next Steps\n",
    "- Swap in a de-identified dataset from your environment.\n",
    "- Add a risk-scoring model (e.g., logistic regression) and threshold-based intervention rules.\n",
    "- Automate the refresh via scheduler (Airflow/GitHub Actions)."
   ]
  }
 ],
 "metadata": {
  "kernelspec": {
   "display_name": "Python 3",
   "language": "python",
   "name": "python3"
  },
  "language_info": {
   "name": "python",
   "version": "3.x"
  }
 },
 "nbformat": 4,
 "nbformat_minor": 5
}